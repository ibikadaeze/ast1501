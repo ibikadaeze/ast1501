{
 "cells": [
  {
   "cell_type": "code",
   "execution_count": null,
   "metadata": {},
   "outputs": [],
   "source": []
  },
  {
   "cell_type": "code",
   "execution_count": null,
   "metadata": {},
   "outputs": [],
   "source": [
    "#Synchrotron model of the fluxes\n",
    "t =\n",
    "t_p =\n",
    "nu =\n",
    "nu_p =\n",
    "F_nup =\n",
    "m =0.88 #using stAandard model\n",
    "p = 3.0 #using standard model\n",
    "a = (2*m)+0.5\n",
    "b = (p+5-(6*m))/2\n",
    "\n",
    "F_nu(t) = F_nup*1.582*(t/t_p)**a*(nu/nu_p)**(5/2)*(1-exp(-(t/t_p)**(-(a+b))*(nu/nu_p)**(-(p+4)/2)))\n"
   ]
  },
  {
   "cell_type": "code",
   "execution_count": null,
   "metadata": {},
   "outputs": [],
   "source": [
    "#Radius at time t_p\n",
    "alpha = 1  #fraction of charged particles and magnetic field (epsilon_e/epsilon_b)\n",
    "f =  0.5   # filling factor (fraction of the emiting region)\n",
    "D =    # distance to the SN\n",
    "\n",
    "R = 4.0e14*(alpha)**(-1/19)*(f/0.5)**(-1/19)*(F_nup)**(9/19)*(D)**(18/19)*(nu_p)**(-1)\n"
   ]
  },
  {
   "cell_type": "code",
   "execution_count": null,
   "metadata": {},
   "outputs": [],
   "source": [
    "# Magnetic field flux\n",
    "B = 1.1*(alpha)**(-4/19)*(f/0.5)**(-4/19)*(F_nup)**(-2/19)*(D)**(-4/19)*(nu_p)"
   ]
  },
  {
   "cell_type": "code",
   "execution_count": null,
   "metadata": {},
   "outputs": [],
   "source": [
    "#Internal energy of the emitting material\n",
    "epsilon_b = 0.1\n",
    "E = (1/epsilon_b)*((B**2)/(8* 3.142))*((4*3.142*f*R**3)/3)"
   ]
  },
  {
   "cell_type": "code",
   "execution_count": null,
   "metadata": {},
   "outputs": [],
   "source": [
    "#expansion velocity\n",
    "v = R/t"
   ]
  },
  {
   "cell_type": "code",
   "execution_count": null,
   "metadata": {},
   "outputs": [],
   "source": [
    "#pre-explosion mass-loss in 1e-5 solar mass per year\n",
    "v_w = 1000  #wind speed in km/s\n",
    "M = 1.0*(alpha)**(-8/19)*epsilon_b*(f)**(-8/19)*(F_nup)**(-4/19)*(D)**(-4/19)*(nu_p)*(t_p)*(v_w)\n"
   ]
  }
 ],
 "metadata": {
  "kernelspec": {
   "display_name": "Python 3",
   "language": "python",
   "name": "python3"
  },
  "language_info": {
   "codemirror_mode": {
    "name": "ipython",
    "version": 3
   },
   "file_extension": ".py",
   "mimetype": "text/x-python",
   "name": "python",
   "nbconvert_exporter": "python",
   "pygments_lexer": "ipython3",
   "version": "3.6.9"
  }
 },
 "nbformat": 4,
 "nbformat_minor": 2
}
