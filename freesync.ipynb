{
 "cells": [
  {
   "cell_type": "code",
   "execution_count": 1,
   "metadata": {},
   "outputs": [],
   "source": [
    "import numpy as np\n",
    "import pandas as pd\n",
    "import math\n",
    "\n",
    "import matplotlib.pyplot as plt\n"
   ]
  },
  {
   "cell_type": "code",
   "execution_count": 22,
   "metadata": {},
   "outputs": [
    {
     "name": "stdout",
     "output_type": "stream",
     "text": [
      "[ 1  2  3  4  5  6  7  8  9 10 11 12 13 14 15]\n",
      "[283.06682158  66.02767084  28.17956817  15.40149881   9.63944344\n",
      "   6.5731167    4.75535654   3.59252663   2.8053025    2.24847969\n",
      "   1.84062082   1.53323368   1.29600873   1.10922613   0.95961566]\n",
      "2.7920932311552916e+16 0.6171685679345864 6.909014440834395e+48 2639.548737916443 13.440843218384842\n"
     ]
    }
   ],
   "source": [
    "def F_nu(t_p,nu_p,F_nup):\n",
    "    \n",
    "    m = 0.88 #using stAandard model\n",
    "    p = 3.0 #using standard model\n",
    "    a = (2*m)+0.5\n",
    "    b = (p+5-(6*m))/2\n",
    "    t=t_p\n",
    "    nu = np.array([1,2,3,4,5,6,7,8,9,10,11,12,13,14,15])#nu_p\n",
    "    Fnu = F_nup*1.582*(t/t_p)**a*(nu/nu_p)**(5/2)*(1-np.exp(-(t/t_p)**(-(a+b))*(nu/nu_p)**(-(p+4)/2)))\n",
    "    \n",
    "    return nu,Fnu\n",
    "                                                    \n",
    "#freqs,SED = F_nu(1224.288326 , 8,  0.0272)   \n",
    "#print(freqs)\n",
    "#print(SED)\n",
    "\n",
    "def SSA_props(t_p,nu_p,F_nup,D):\n",
    "    '''Calculates Synchroton Self-Absorption properties\n",
    "    t_p: time of peak in days\n",
    "    nu_p: frequence of peak in GHz\n",
    "    F_nup: peak flux in mJy\n",
    "    D: distance to SN in Mpc'''\n",
    "    \n",
    "    f =  0.5   # filling factor (fraction of the emiting region)\n",
    "    alpha = 1  #fraction of charged particles and magnetic field (epsilon_e/epsilon_b)\n",
    "    v_w = 1000  #wind speed in km/s\n",
    "    epsilon_b = 0.1\n",
    "\n",
    "    #Radius\n",
    "    R = 4.0e14*(alpha)**(-1/19)*(f/0.5)**(-1/19)*(F_nup)**(9/19)*(D)**(18/19)*(nu_p/5)**(-1)\n",
    "\n",
    "    # Magnetic field flux\n",
    "    B = 1.1*(alpha)**(-4/19)*(f/0.5)**(-4/19)*(F_nup)**(-2/19)*(D)**(-4/19)*(nu_p/5)\n",
    "\n",
    "    #Internal energy of the emitting material\n",
    "    E = (1/epsilon_b)*((B**2)/(8* 3.142))*((4*3.142*f*R**3)/3)\n",
    "\n",
    "    #expansion velocity in km/s\n",
    "    v = (R/t_p)*1.1574e-10\n",
    "\n",
    "    #pre-explosion mass-loss in 1e-5 solar mass per year\n",
    "    M = 1.0*(alpha)**(-8/19)*epsilon_b*(f)**(-8/19)*(F_nup)**(-4/19)*(D)**(-4/19)*(nu_p/5)*(t_p/10)*(v_w/1000)\n",
    "\n",
    "    return R,B,E,v,M\n",
    "\n",
    "\n",
    "def taufreefree(M,R,nu):\n",
    "\n",
    "    Z_ave = 5.4  # Average metallicity 1= pure H. 5.4 for a massive star\n",
    "    miu = 1.9 # mean molecular weight of electrons. 1= pure H  1.9 is for a massive star.\n",
    "    vw_cgs = 1000 * 1e5 # assumed wind velocity in cgs (cm/s). Take this as 1000 * 10^5 for now. (i.e. 1000 km/s in cgs)\n",
    "    T = 10^4 # temperature of the material absorbing in K.  10^4 is a good starting point. \n",
    "        \n",
    "    M_cgs =  M * 1e-5 * 6.307e+25 #mass loss rate in cgs units\n",
    "    \n",
    "    tau_ff = 2.021e25*M_cgs**2*Z_ave/(miu**2*nu**(2.1)*R**3*vw_cgs**2*T**(1.35))  \n",
    "    \n",
    "    return tau_ff\n",
    "\n",
    "\n",
    "freqs,SED = F_nu(1224.288326 , 8,  0.0272)       \n",
    "R2,B2,E2,v2,M2 = SSA_props(1224.288326 , 8,  0.0272,880) \n",
    "tauff=taufreefree(M2,R2,freqs)\n",
    "#tauff=taufreefree(4,3e14,np.array([2,5,7]))\n",
    "print(freqs)\n",
    "print(tauff)\n",
    "print(R2,B2,E2,v2,M2)"
   ]
  },
  {
   "cell_type": "code",
   "execution_count": 23,
   "metadata": {},
   "outputs": [
    {
     "ename": "NameError",
     "evalue": "name 'tau_ff' is not defined",
     "output_type": "error",
     "traceback": [
      "\u001b[0;31m---------------------------------------------------------------------------\u001b[0m",
      "\u001b[0;31mNameError\u001b[0m                                 Traceback (most recent call last)",
      "\u001b[0;32m<ipython-input-23-7b0a897c669d>\u001b[0m in \u001b[0;36m<module>\u001b[0;34m()\u001b[0m\n\u001b[1;32m     16\u001b[0m \u001b[0;34m\u001b[0m\u001b[0m\n\u001b[1;32m     17\u001b[0m         \u001b[0;31m#Correct SED for FFA:\u001b[0m\u001b[0;34m\u001b[0m\u001b[0;34m\u001b[0m\u001b[0;34m\u001b[0m\u001b[0m\n\u001b[0;32m---> 18\u001b[0;31m         \u001b[0mSSA_FFA_sed\u001b[0m \u001b[0;34m=\u001b[0m \u001b[0mSSA_sed\u001b[0m\u001b[0;34m*\u001b[0m\u001b[0mnp\u001b[0m\u001b[0;34m.\u001b[0m\u001b[0mexp\u001b[0m\u001b[0;34m(\u001b[0m\u001b[0;34m-\u001b[0m\u001b[0mtau_ff\u001b[0m\u001b[0;34m)\u001b[0m\u001b[0;34m\u001b[0m\u001b[0;34m\u001b[0m\u001b[0m\n\u001b[0m\u001b[1;32m     19\u001b[0m \u001b[0;34m\u001b[0m\u001b[0m\n\u001b[1;32m     20\u001b[0m         \u001b[0;31m#Evaluate if this SED is allowed by your data.\u001b[0m\u001b[0;34m\u001b[0m\u001b[0;34m\u001b[0m\u001b[0;34m\u001b[0m\u001b[0m\n",
      "\u001b[0;31mNameError\u001b[0m: name 'tau_ff' is not defined"
     ]
    }
   ],
   "source": [
    "F_p = [0.01,0.015,0.02,0.025,0.03] #mJy\n",
    "nu_p = [1,2,3,4,5,6,7,8,9,10,11,12,13,14,15] # GHz\n",
    "t_p = 1224.288 # days\n",
    "D = 808.4 # Mpc\n",
    "\n",
    "for F in F_p:\n",
    "    for nu in nu_p:\n",
    "        #calculate SSA\n",
    "        SSA_freq,SSA_sed = F_nu(t_p,nu,F)\n",
    "        \n",
    "        #calculate Mass loss rate, Radius, velocity, etc.\n",
    "        R,B,E,v,M = SSA_props(t_p,nu,F,D)\n",
    "        \n",
    "        #calculate tau_ff\n",
    "        tauff = taufreefree(M,R,SSA_freq)\n",
    "        \n",
    "        #Correct SED for FFA:\n",
    "        SSA_FFA_sed = SSA_sed*np.exp(-tauff)\n",
    "        \n",
    "        #Evaluate if this SED is allowed by your data.\n",
    "        \n",
    "        #Need to known what frequency your data point was\n",
    "        #Need to know your upper limit.\n",
    "        \n",
    "        #**Need to interpolate SSA_FFA_sed to the frequency of your observation.\n",
    "        \n",
    "        \n",
    "        #Figure out if the flux there is above (disallowed) or below (allowed) your limit.\n",
    "        #print out to a file F,nu, R,B,E,v,M, and whether it is ruled out."
   ]
  },
  {
   "cell_type": "code",
   "execution_count": null,
   "metadata": {},
   "outputs": [],
   "source": [
    "F_p = [0.01,0.015,0.02,0.025,0.03] #mJy\n",
    "nu_p = [1,2,3,4,5,6,7,8,9,10,11,12,13,14,15] # GHz\n",
    "for F in F_p:\n",
    "    for nu in nu_p:\n",
    "        \n",
    "    \n",
    "    \n",
    "     F = F_p*1.582*(t/t_p)**a*(nu/nu_p)**(5/2)*(1-np.exp(-(t/t_p)**(-(a+b))*(nu/nu_p)**(-(p+4)/2))\n",
    "        print F_(t_p nu,F_p )\n",
    "    for nu in nu_p:\n",
    "    #calculate SSA\n",
    "  #calculate Mass loss rate, Radius\n",
    "               alpha = 1  #fraction of charged particles and magnetic field (epsilon_e/epsilon_b)\n",
    "f =  0.5   # filling factor (fraction of the emiting region)\n",
    "D =  808.4  # in Mpc distance to the SN\n",
    "\n",
    "R = 4.0e14*(alpha)**(-1/19)*(f/0.5)**(-1/19)*(F_p)**(9/19)*(D)**(18/19)*(nu_p/5)**(-1)\n",
    "\n",
    "# Magnetic field flux\n",
    "B = 1.1*(alpha)**(-4/19)*(f/0.5)**(-4/19)*(F_p)**(-2/19)*(D)**(-4/19)*(nu_p/5)\n",
    "\n",
    "#Internal energy of the emitting material\n",
    "epsilon_b = 0.1\n",
    "E = (1/epsilon_b)*((B**2)/(8* 3.142))*((4*3.142*f*R**3)/3)\n",
    "\n",
    "#expansion velocity in km/s\n",
    "v = (R/t)*1.1574e-10\n",
    "\n",
    "#pre-explosion mass-loss in 1e-5 solar mass per year\n",
    "v_w = 1000  #wind speed in km/s\n",
    "M = 1.0*(alpha)**(-8/19)*epsilon_b*(f)**(-8/19)*(F_p)**(-4/19)*(D)**(-4/19)*(nu_p/5)*(t_p/10)*(v_w/1000)\n",
    "\n",
    "        #calculate tau_ff\n",
    "       M_cgs =  #mass loss rate in cgs units\n",
    "Z_ave = 5.4  # Average metallicity 1= pure H. 5.4 for a massive star\n",
    "miu = 1.9 # mean molecular weight of electrons. 1= pure H  1.9 is for a massive star.\n",
    "#nu =  #frequency array that defines your SED. In GHz\n",
    "#R =   #radius in cm\n",
    "vw_cgs = 1000 * 10^5 # assumed wind velocity in cgs (cm/s). Take this as 1000 * 10^5 for now. (i.e. 1000 km/s in cgs)\n",
    "T = 10^4 # temperature of the material absorbing in K.  10^4 is a good starting point. \n",
    "                                         \n",
    "   tau_ff = 2.021e25*M_cgs**2*Z_ave/(miu**2*nu**(2.1)*R**3*vw_cgs**2*T**(1.35))  \n",
    "       F_ff = F*np.exp(-tau_ff)   \n",
    "                                      "
   ]
  },
  {
   "cell_type": "code",
   "execution_count": null,
   "metadata": {},
   "outputs": [],
   "source": []
  },
  {
   "cell_type": "code",
   "execution_count": 18,
   "metadata": {},
   "outputs": [
    {
     "data": {
      "text/plain": [
       "5.5709271879816535"
      ]
     },
     "execution_count": 18,
     "metadata": {},
     "output_type": "execute_result"
    }
   ],
   "source": [
    "(3*2e30)/(3.14*7e9**3)"
   ]
  },
  {
   "cell_type": "code",
   "execution_count": 19,
   "metadata": {},
   "outputs": [
    {
     "data": {
      "text/plain": [
       "11046610778443.115"
      ]
     },
     "execution_count": 19,
     "metadata": {},
     "output_type": "execute_result"
    }
   ],
   "source": [
    "(5.57*1.38e-16*24000)/(1.67e-24)"
   ]
  },
  {
   "cell_type": "code",
   "execution_count": 20,
   "metadata": {},
   "outputs": [
    {
     "data": {
      "text/plain": [
       "175651816176112.5"
      ]
     },
     "execution_count": 20,
     "metadata": {},
     "output_type": "execute_result"
    }
   ],
   "source": [
    "1.0036e13*(5.57)**(5/3)"
   ]
  },
  {
   "cell_type": "code",
   "execution_count": null,
   "metadata": {},
   "outputs": [],
   "source": []
  }
 ],
 "metadata": {
  "kernelspec": {
   "display_name": "Python 3",
   "language": "python",
   "name": "python3"
  },
  "language_info": {
   "codemirror_mode": {
    "name": "ipython",
    "version": 3
   },
   "file_extension": ".py",
   "mimetype": "text/x-python",
   "name": "python",
   "nbconvert_exporter": "python",
   "pygments_lexer": "ipython3",
   "version": "3.6.9"
  }
 },
 "nbformat": 4,
 "nbformat_minor": 2
}
