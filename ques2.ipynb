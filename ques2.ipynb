{
 "cells": [
  {
   "cell_type": "code",
   "execution_count": 34,
   "metadata": {},
   "outputs": [
    {
     "data": {
      "image/png": "[encoded data removed]",
      "text/plain": [
       "<Figure size 432x288 with 1 Axes>"
      ]
     },
     "metadata": {
      "needs_background": "light"
     },
     "output_type": "display_data"
    }
   ],
   "source": [
    "import matplotlib.pyplot as plt\n",
    "import numpy as np\n",
    "\n",
    "Mmax = 1.4\n",
    "M = np.arange(0.01,2,0.01)\n",
    "\n",
    "R_nonrel = 1./M**(1./3.)\n",
    "R_rel = 0*M\n",
    "\n",
    "plt.plot(M, R_nonrel, label=\"Non-rel\")\n",
    "plt.plot(M, R_rel, label=\"Rel\")\n",
    "plt.plot([Mmax, Mmax], [max(R_nonrel), 0], 'k', linestyle=\":\", label=\"C/O limit\")\n",
    "plt.xlabel(\"Mass [Msun]\")\n",
    "plt.ylabel(\"Radius [Rsun]\")\n",
    "plt.legend()\n",
    "#plt.show()\n",
    "\n",
    "plt.savefig('ques2.pdf')"
   ]
  },
  {
   "cell_type": "code",
   "execution_count": 17,
   "metadata": {},
   "outputs": [
    {
     "name": "stderr",
     "output_type": "stream",
     "text": [
      "/home/ibik/anaconda3/lib/python3.7/site-packages/ipykernel_launcher.py:18: RuntimeWarning: invalid value encountered in double_scalars\n"
     ]
    },
    {
     "data": {
      "image/png": "[encoded data removed]",
      "text/plain": [
       "<Figure size 432x288 with 1 Axes>"
      ]
     },
     "metadata": {
      "needs_background": "light"
     },
     "output_type": "display_data"
    }
   ],
   "source": [
    "import matplotlib.pyplot as plt\n",
    "import numpy as np\n",
    "\n",
    "from scipy.integrate import odeint\n",
    "def LaneEmden1(y, t, n1):\n",
    "     theta1, omega = y\n",
    "     dydt = [omega, -2/t*omega - (theta1)**n1]\n",
    "     return dydt\n",
    "t = np.linspace(0.01, 10, 1000)\n",
    "y0 = [1,0.01]\n",
    "\n",
    "n1=3\n",
    "sol1 = odeint(LaneEmden1, y0, t, args=(n1,))\n",
    "theta1 = sol1[:, 0]\n",
    "\n",
    "def LaneEmden2(y, t, n1):\n",
    "     theta2, omega = y\n",
    "     dydt = [omega, -2/t*omega - (theta2)**n2]\n",
    "     return dydt\n",
    "t = np.linspace(0.01, 10, 1000)\n",
    "y0 = [1,0.01]\n",
    "\n",
    "n2=1.5\n",
    "sol2 = odeint(LaneEmden2, y0, t, args=(n2,))\n",
    "theta2 = sol2[:, 0]\n",
    "\n",
    "plt.plot(t, theta1, 'b',label='theta(t) for n =3')\n",
    "plt.plot(t,theta2,'r', label='theta(t) for n =1.5')\n",
    "plt.legend(loc='best')\n",
    "plt.xlabel('t')\n",
    "plt.ylabel('$theta$')\n",
    "plt.grid()"
   ]
  },
  {
   "cell_type": "code",
   "execution_count": 23,
   "metadata": {},
   "outputs": [
    {
     "data": {
      "text/plain": [
       "4.4620151168298043e+61"
      ]
     },
     "execution_count": 23,
     "metadata": {},
     "output_type": "execute_result"
    }
   ],
   "source": [
    "(1.0036e13/(0.42422*6.67e-8))**3"
   ]
  },
  {
   "cell_type": "code",
   "execution_count": 24,
   "metadata": {},
   "outputs": [
    {
     "data": {
      "text/plain": [
       "2.253542988297881e+28"
      ]
     },
     "execution_count": 24,
     "metadata": {},
     "output_type": "execute_result"
    }
   ],
   "source": [
    "4.4620151168298043e+61/1.98e33"
   ]
  },
  {
   "cell_type": "code",
   "execution_count": 25,
   "metadata": {},
   "outputs": [
    {
     "data": {
      "text/plain": [
       "7.042321838430878e+26"
      ]
     },
     "execution_count": 25,
     "metadata": {},
     "output_type": "execute_result"
    }
   ],
   "source": [
    "2.253542988297881e+28*(2)**(-5)"
   ]
  },
  {
   "cell_type": "code",
   "execution_count": 26,
   "metadata": {},
   "outputs": [
    {
     "data": {
      "text/plain": [
       "887904001.7425997"
      ]
     },
     "execution_count": 26,
     "metadata": {},
     "output_type": "execute_result"
    }
   ],
   "source": [
    "7e26**(1/3)"
   ]
  },
  {
   "cell_type": "code",
   "execution_count": 5,
   "metadata": {},
   "outputs": [
    {
     "data": {
      "text/plain": [
       "102.40694480480552"
      ]
     },
     "execution_count": 5,
     "metadata": {},
     "output_type": "execute_result"
    }
   ],
   "source": [
    "42.49*(16*(7/8))**(1/3)"
   ]
  },
  {
   "cell_type": "code",
   "execution_count": 10,
   "metadata": {},
   "outputs": [
    {
     "data": {
      "text/plain": [
       "17.32193094159885"
      ]
     },
     "execution_count": 10,
     "metadata": {},
     "output_type": "execute_result"
    }
   ],
   "source": [
    "151.9489/(3*(25)**(1/3))"
   ]
  },
  {
   "cell_type": "code",
   "execution_count": 11,
   "metadata": {},
   "outputs": [
    {
     "data": {
      "text/plain": [
       "16.654333333333334"
      ]
     },
     "execution_count": 11,
     "metadata": {},
     "output_type": "execute_result"
    }
   ],
   "source": [
    "17.321-(2/3)"
   ]
  },
  {
   "cell_type": "code",
   "execution_count": null,
   "metadata": {},
   "outputs": [],
   "source": []
  }
 ],
 "metadata": {
  "kernelspec": {
   "display_name": "Python 3",
   "language": "python",
   "name": "python3"
  },
  "language_info": {
   "codemirror_mode": {
    "name": "ipython",
    "version": 3
   },
   "file_extension": ".py",
   "mimetype": "text/x-python",
   "name": "python",
   "nbconvert_exporter": "python",
   "pygments_lexer": "ipython3",
   "version": "3.7.4"
  }
 },
 "nbformat": 4,
 "nbformat_minor": 2
}
