{
 "cells": [
  {
   "cell_type": "markdown",
   "metadata": {},
   "source": [
    "## Import Some Stuff"
   ]
  },
  {
   "cell_type": "code",
   "execution_count": 1,
   "metadata": {},
   "outputs": [],
   "source": [
    "import numpy as np\n",
    "import pandas as pd\n",
    "import math\n",
    "\n",
    "import matplotlib.pyplot as plt\n",
    "from astropy.io import ascii"
   ]
  },
  {
   "cell_type": "markdown",
   "metadata": {},
   "source": [
    "## Define a few functions that we will use for each object"
   ]
  },
  {
   "cell_type": "code",
   "execution_count": 2,
   "metadata": {},
   "outputs": [],
   "source": [
    "def F_nu(t_p,nu_p,F_nup,nu_sed):\n",
    "    '''Calculates a Synchrotron Self-Absorbed Spectrum for given input parameters.\n",
    "    \n",
    "    Parameters:\n",
    "    t_p (days): Time of SSA peak - should be single number\n",
    "    nu_p (GHz): Frequency of SSA peak - should be single number\n",
    "    F_nup (mJy): Flux of SSA peak - should be single number\n",
    "    nu (GHz): Frequencies at which you want the SSA spectrum to be calculated at. Likely an array.\n",
    "    \n",
    "    Outputs:\n",
    "    Fnu (mJy): the flux of the SSA. This is an array with values associated with each value of input array nu.\n",
    "    '''\n",
    "    \n",
    "    m = 0.88 #using stAandard model\n",
    "    p = 3.0 #using standard model\n",
    "    a = (2*m)+0.5\n",
    "    b = (p+5-(6*m))/2\n",
    "    t=t_p\n",
    "    Fnu = F_nup*1.582*(t/t_p)**a*(nu_sed/nu_p)**(5/2)*(1-np.exp(-(t/t_p)**(-(a+b))*(nu_sed/nu_p)**(-(p+4)/2)))\n",
    "    \n",
    "    return Fnu\n",
    "\n",
    "\n",
    "def SSA_props(t_p,nu_p,F_nup,D,f=0.5,alpha=1,vw=100,epsilon_b=0.1):\n",
    "    '''Calculates Synchroton Self-Absorption properties for given input parameters.\n",
    "    \n",
    "    Inputs:\n",
    "    t_p (days): Time of SSA peak - likely a single number\n",
    "    nu_p (GHz): Frequency of SSA peak - likely a single number\n",
    "    F_nup (mJy): Flux of SSA peak - likely a single number\n",
    "    D (Mpc): distance to SN - likely a single number\n",
    "    f (unitless): filling factor (fraction of emitting region). default is 0.5\n",
    "    alpha (unitless): ratio charged particles to magnetic field (epsilon_e/epsilon_b). default 1\n",
    "    v_w (km/s): wind speed. default = 100\n",
    "    epsilon_b (unitless): fraction of shock energy into B-fields. default = 0.1\n",
    "    \n",
    "    Outputs:\n",
    "    R (cm): radius of material \n",
    "    B : magnetic field flux\n",
    "    E : intermal energy of emitting material\n",
    "    v (km/s): expansion velocity of material\n",
    "    M (1d-5 solar masses per year): inferred mass loss rate of progenitor'''\n",
    "    \n",
    "\n",
    "    #Radius\n",
    "    R = 4.0e14*(alpha)**(-1/19)*(f/0.5)**(-1/19)*(F_nup)**(9/19)*(D)**(18/19)*(nu_p/5)**(-1)\n",
    "\n",
    "    # Magnetic field flux\n",
    "    B = 1.1*(alpha)**(-4/19)*(f/0.5)**(-4/19)*(F_nup)**(-2/19)*(D)**(-4/19)*(nu_p/5)\n",
    "\n",
    "    #Internal energy of the emitting material\n",
    "    E = (1/epsilon_b)*((B**2)/(8* 3.142))*((4*3.142*f*R**3)/3)\n",
    "\n",
    "    #expansion velocity in km/s\n",
    "    v = (R/t_p)*1.1574e-10\n",
    "\n",
    "    #pre-explosion mass-loss in 1e-5 solar mass per year\n",
    "    M = 1.0*(alpha)**(-8/19)*epsilon_b*(f)**(-8/19)*(F_nup)**(-4/19)*(D)**(-4/19)*(nu_p/5)*(t_p/10)*(vw/1000)\n",
    "\n",
    "    return R,B,E,v,M\n",
    "\n",
    "\n",
    "def taufreefree(M,R,nu):\n",
    "    '''Calculates the free free optical depth for a given set of parameters.\n",
    "    \n",
    "    Inputs:\n",
    "    M (1d-5 solar masses per year): mass loss rate\n",
    "    R (cm): radius of emitting material\n",
    "    nu (GHz): Frequencies at which you want tau-ff to be calculated at. Likely an array.\n",
    "    \n",
    "    Outputs:\n",
    "    tau_ff (unitless): the free-free optical depth, calculated at same frequences as input array nu'''\n",
    "\n",
    "    Z_ave = 5.4  # Average metallicity 1= pure H. 5.4 for a massive star\n",
    "    miu = 1.9 # mean molecular weight of electrons. 1= pure H  1.9 is for a massive star.\n",
    "    vw_cgs = 100 * 1e5 # assumed wind velocity in cgs (cm/s). Take this as 1000 * 10^5 for now. (i.e. 1000 km/s in cgs)\n",
    "    T = 10**4 # temperature of the material absorbing in K.  10^4 is a good starting point. \n",
    "        \n",
    "    M_cgs =  M * 1e-5 * 6.307e+25 #mass loss rate in cgs units\n",
    "    \n",
    "    tau_ff = 2.021e25*M_cgs**2*Z_ave/(miu**2*nu**(2.1)*R**3*vw_cgs**2*T**(1.35))  \n",
    "    \n",
    "    return tau_ff\n",
    "\n",
    "\n",
    "#freqs,SED = F_nu(1224.288326 , 8,  0.0272)       \n",
    "#R2,B2,E2,v2,M2 = SSA_props(1224.288326 , 8,  0.0272,880) \n",
    "#tauff=taufreefree(M2,R2,freqs)\n",
    "#tauff=taufreefree(4,3e14,np.array([2,5,7]))\n",
    "#print(freqs)\n",
    "#print(tauff)\n",
    "#print(R2,B2,E2,v2,M2)"
   ]
  },
  {
   "cell_type": "markdown",
   "metadata": {},
   "source": [
    "## Define a Grid in F_np and n_p that you want to calculate SSA+FFA spectra and check whether they are allowed by your data."
   ]
  },
  {
   "cell_type": "code",
   "execution_count": 3,
   "metadata": {},
   "outputs": [],
   "source": [
    "### Define parameters that are specific to the supernova you want to model:###\n",
    "t_p = 1261.50903119869 # time of observation in days\n",
    "D = 1088.1 # distance to SN in Mpc\n",
    "F_ul = 0.0404 # flux of upper limit in mJy\n",
    "nu_ul = 8 # frequency of upper limit in GHz\n",
    "file_out = 'PS11aop_ParameterSpace.csv' #File that you will save the results in.\n",
    "\n",
    "\n",
    "### Define the grid of F_p and nu_p that you want to search over:###\n",
    "#F_p = [0.01,0.015,0.02,0.025,0.03] #mJy\n",
    "#nu = np.array([1,2,3,4,5,6,7,8,9,10,11,12,13,14,15]) # GHz\n",
    "\n",
    "F_p = np.logspace(np.log10(0.01),np.log10(1.0),num=25) #mJy (this is an array evenly spaced in log between 0.01 annd 1)\n",
    "nu_p = np.logspace(np.log10(0.5),np.log10(50),num=25) #GHz (this is an array evenly spaced in log between 0.5 annd 50)\n",
    "\n",
    "\n",
    "### Define array of frequencies to calculate the SSA and SSA+FFA spectrum at ###\n",
    "nu_sed = np.array([1,2,3,4,5,6,7,8,9,10,11,12,13,14,15])\n",
    "\n",
    "### Define empty arrays of the values that you want to save for each value in the grid you are searching over: ###\n",
    "Fp_g = [] #peak flux\n",
    "nup_g =[] #peak frequency\n",
    "R_g =[] #radius\n",
    "B_g = [] #Bfield\n",
    "vsh_g = [] #velocity of shock\n",
    "M_g = [] #mass loss rate\n",
    "RuledOut_g = [] #flag for whether it is ruled out\n",
    "\n",
    "######### SEARCH OVER GRID ############\n",
    "\n",
    "for F in F_p:\n",
    "    for nu in nu_p:\n",
    "        #calculate SSA\n",
    "        SSA_sed = F_nu(t_p,nu,F,nu_sed)\n",
    "        \n",
    "        #calculate Mass loss rate, Radius, velocity, etc.\n",
    "        R,B,E,v,M = SSA_props(t_p,nu,F,D)\n",
    "        \n",
    "        #calculate tau_ff\n",
    "        tauff = taufreefree(M,R,nu_sed)\n",
    "        \n",
    "        #Correct SED for FFA:\n",
    "        SSA_FFA_sed = SSA_sed*np.exp(-tauff)\n",
    "        \n",
    "        #Interpolate this SSA+FFA to the frequency of your data point:\n",
    "        flux_test = np.interp(nu_ul, nu_sed, SSA_FFA_sed)\n",
    "        \n",
    "        #Evaluate if this SED is allowed by your data.\n",
    "        if flux_test > F_ul:\n",
    "            RuledOut = True\n",
    "        else:\n",
    "            RuledOut = False\n",
    "            \n",
    "        # Append the values from this loop into the arrays that we defined above:\n",
    "        \n",
    "        Fp_g.append(F) \n",
    "        nup_g.append(nu) \n",
    "        R_g.append(R) \n",
    "        B_g.append(B) \n",
    "        vsh_g.append(v) \n",
    "        M_g.append(M) \n",
    "        RuledOut_g.append(RuledOut) \n",
    " \n",
    "        #It will now go on to the next set in the loop:\n",
    "    \n",
    "# Now it has gone over the whole loop. So write out the results into a data file that you can use later:\n",
    "data = [Fp_g,nup_g,R_g,B_g,vsh_g,M_g,RuledOut_g]\n",
    "names = ['F_peak','nu_peak','Radius','Bfield','v_shock','Mdot','RuledOut']\n",
    "ascii.write(data,file_out,names=names,overwrite=True)\n"
   ]
  },
  {
   "cell_type": "markdown",
   "metadata": {},
   "source": [
    "## Make a plot that shows what regions are ruled out versus in based on the data file you just wrote out:\n",
    "(I think this might show that we may want to refine what grid of Fp and nu_p we are searching over, but this is pretty good. In this plot red are models that are ruled out and grey are ones that are still allowed)."
   ]
  },
  {
   "cell_type": "code",
   "execution_count": 5,
   "metadata": {},
   "outputs": [
    {
     "data": {
      "image/png": "[encoded data removed]",
      "text/plain": [
       "<Figure size 432x288 with 1 Axes>"
      ]
     },
     "metadata": {
      "needs_background": "light"
     },
     "output_type": "display_data"
    }
   ],
   "source": [
    "file_in = 'PS11aop_ParameterSpace.csv'\n",
    "data_plot = ascii.read(file_in)\n",
    "\n",
    "gammabeta = data_plot['v_shock']*(1/3e5)\n",
    "x=0\n",
    "y=0\n",
    "\n",
    "\n",
    "plt.figure()\n",
    "\n",
    "for i in range(len(data_plot)):\n",
    "    if data_plot['RuledOut'][i] == 'True':\n",
    "        plt.plot(data_plot['Mdot'][i],gammabeta[i],'ro',alpha=0.5)\n",
    "    else:\n",
    "        plt.plot(data_plot['Mdot'][i],gammabeta[i],'ko',alpha=0.2)\n",
    "\n",
    "plt.yscale('log')\n",
    "plt.xscale('log')\n",
    "plt.xlabel('Mass Loss Rate (1e-5 Msun/year)')\n",
    "plt.ylabel('Gamma*Beta')\n",
    "#plt.show()\n",
    "plt.savefig('mgPS11aop.pdf')"
   ]
  },
  {
   "cell_type": "markdown",
   "metadata": {},
   "source": [
    "## Make a plot that shows your upper limit and then some examples of SED that are allowed and others that aren't.\n",
    "(i.e. like the ones you've made before but now with more lines on it. Perhaps color coded based on whether they are allowed or not. I don't think we need to show every single SED that we make in the grid above but more chose say 10ish.)"
   ]
  },
  {
   "cell_type": "code",
   "execution_count": 8,
   "metadata": {},
   "outputs": [
    {
     "data": {
      "image/png": "[encoded data removed]",
      "text/plain": [
       "<Figure size 432x288 with 1 Axes>"
      ]
     },
     "metadata": {
      "needs_background": "light"
     },
     "output_type": "display_data"
    },
    {
     "data": {
      "text/plain": [
       "<Figure size 432x288 with 0 Axes>"
      ]
     },
     "metadata": {},
     "output_type": "display_data"
    }
   ],
   "source": [
    "file_in = 'PS11aop_ParameterSpace.csv'\n",
    "data_plot = ascii.read(file_in)\n",
    "\n",
    "#gammabeta = data_plot['v_shock']*(1/3e5)\n",
    "#x=0\n",
    "#y=0\n",
    "\n",
    "\n",
    "plt.figure()\n",
    "\n",
    "for i in range(len(data_plot)):\n",
    "    if data_plot['RuledOut'][i] == 'True':\n",
    "        plt.plot(data_plot['F_peak'][i],data_plot['nu_peak'][i],'ro',alpha=0.5)\n",
    "    else:\n",
    "        plt.plot(data_plot['F_peak'][i],data_plot['nu_peak'][i],'ko',alpha=0.2)\n",
    "        \n",
    "plt.plot(np.log10(8),np.log10(0.0404), 'bo', markersize=10) \n",
    "#plt.yscale('log')\n",
    "#plt.xscale('log')\n",
    "plt.xlabel('Peak Frequency (GHz)')\n",
    "plt.ylabel('Flux (mJy)')\n",
    "plt.show()\n",
    "plt.savefig('PS11aop.pdf')"
   ]
  },
  {
   "cell_type": "code",
   "execution_count": null,
   "metadata": {},
   "outputs": [],
   "source": []
  }
 ],
 "metadata": {
  "kernelspec": {
   "display_name": "Python 3",
   "language": "python",
   "name": "python3"
  },
  "language_info": {
   "codemirror_mode": {
    "name": "ipython",
    "version": 3
   },
   "file_extension": ".py",
   "mimetype": "text/x-python",
   "name": "python",
   "nbconvert_exporter": "python",
   "pygments_lexer": "ipython3",
   "version": "3.7.1"
  }
 },
 "nbformat": 4,
 "nbformat_minor": 4
}
