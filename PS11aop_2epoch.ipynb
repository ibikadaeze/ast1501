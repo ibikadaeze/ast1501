{
 "cells": [
  {
   "cell_type": "code",
   "execution_count": 1,
   "metadata": {},
   "outputs": [],
   "source": [
    "import numpy as np\n",
    "import pandas as pd\n",
    "import math\n",
    "\n",
    "import matplotlib.pyplot as plt\n",
    "from astropy.io import ascii"
   ]
  },
  {
   "cell_type": "code",
   "execution_count": 27,
   "metadata": {},
   "outputs": [
    {
     "ename": "IndentationError",
     "evalue": "expected an indented block (<ipython-input-27-fd23ef2b4e42>, line 22)",
     "output_type": "error",
     "traceback": [
      "\u001b[0;36m  File \u001b[0;32m\"<ipython-input-27-fd23ef2b4e42>\"\u001b[0;36m, line \u001b[0;32m22\u001b[0m\n\u001b[0;31m    RuledOut2 = False\u001b[0m\n\u001b[0m            ^\u001b[0m\n\u001b[0;31mIndentationError\u001b[0m\u001b[0;31m:\u001b[0m expected an indented block\n"
     ]
    }
   ],
   "source": [
    "file='PS11aopx_ParameterSpace.csv'\n",
    "data = ascii.read(file,format='csv')\n",
    "file_out = 'PS11aop.csv' #File that you will save the results in.\n",
    "Fp_g = [] #peak flux\n",
    "nup_g =[] #peak frequency\n",
    "R_g =[] #radius\n",
    "B_g = [] #Bfield\n",
    "vsh_g = [] #velocity of shock\n",
    "M_g = [] #mass loss rate\n",
    "den_g = []\n",
    "RuledOut_g = [] #flag for whether it is ruled out\n",
    "RuledOut2_g = []\n",
    "\n",
    "rule = data['RuledOut']\n",
    "v = data['v_shock']\n",
    "R = data['Radius']\n",
    "\n",
    "for i in range(len(rule)):\n",
    "    \n",
    "    if rule == False:\n",
    "            if v > 3505.583 and R < 5.11e16:\n",
    "            RuledOut2 = False\n",
    "        \n",
    "        \n",
    "            Fp_g.append(F_peak) \n",
    "            nup_g.append(nu_peak) \n",
    "            R_g.append(Radius) \n",
    "            B_g.append(Bfield) \n",
    "            vsh_g.append(v_shock) \n",
    "            M_g.append(Mdot)\n",
    "            den_g.append(den)\n",
    "            RuledOut_g.append(RuledOut)\n",
    "            RuledOut2_g.append(RuledOut2)\n",
    "\n",
    "            else: \n",
    "                RuledOut2 = True\n",
    "        \n",
    "data = [Fp_g,nup_g,R_g,B_g,vsh_g,M_g,den_g,RuledOut_g,RuledOut2_g\n",
    "names = ['F_peak','nu_peak','Radius','Bfield','v_shock','Mdot','den','RuledOut','RuledOut2']\n",
    "ascii.write(data,file_out,names=names,overwrite=True,format='csv')"
   ]
  }
 ],
 "metadata": {
  "kernelspec": {
   "display_name": "Python 3",
   "language": "python",
   "name": "python3"
  },
  "language_info": {
   "codemirror_mode": {
    "name": "ipython",
    "version": 3
   },
   "file_extension": ".py",
   "mimetype": "text/x-python",
   "name": "python",
   "nbconvert_exporter": "python",
   "pygments_lexer": "ipython3",
   "version": "3.7.4"
  }
 },
 "nbformat": 4,
 "nbformat_minor": 2
}
