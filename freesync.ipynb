{
 "cells": [
  {
   "cell_type": "code",
   "execution_count": 11,
   "metadata": {},
   "outputs": [],
   "source": [
    "import numpy as np\n",
    "import pandas as pd\n",
    "import math\n",
    "\n",
    "import matplotlib.pyplot as plt\n"
   ]
  },
  {
   "cell_type": "code",
   "execution_count": 17,
   "metadata": {},
   "outputs": [
    {
     "ename": "SyntaxError",
     "evalue": "invalid syntax (<ipython-input-17-cb7ec5160ef5>, line 11)",
     "output_type": "error",
     "traceback": [
      "\u001b[0;36m  File \u001b[0;32m\"<ipython-input-17-cb7ec5160ef5>\"\u001b[0;36m, line \u001b[0;32m11\u001b[0m\n\u001b[0;31m    print F_nu(t_p nu,F_nup )\u001b[0m\n\u001b[0m        ^\u001b[0m\n\u001b[0;31mSyntaxError\u001b[0m\u001b[0;31m:\u001b[0m invalid syntax\n"
     ]
    }
   ],
   "source": [
    "def F_nu(t_p,nu_p,F_nup):\n",
    "    m = 0.88 #using stAandard model\n",
    "    p = 3.0 #using standard model\n",
    "    a = (2*m)+0.5\n",
    "    b = (p+5-(6*m))/2\n",
    "    t=t_p\n",
    "    nu=nu_p\n",
    "\n",
    "    F_nu = F_nup*1.582*(t/t_p)**a*(nu/nu_p)**(5/2)*(1-np.exp(-(t/t_p)**(-(a+b))*(nu/nu_p)**(-(p+4)/2))\n",
    "        print F_nu(t_p nu,F_nup )\n",
    "                                                    \n",
    "    return F_nu(1224.288326 , 8,  0.0272)                                           "
   ]
  },
  {
   "cell_type": "code",
   "execution_count": null,
   "metadata": {},
   "outputs": [],
   "source": [
    "F_p =\n",
    "nu_p =\n",
    "for F in F_p:\n",
    "     F = F_p*1.582*(t/t_p)**a*(nu/nu_p)**(5/2)*(1-np.exp(-(t/t_p)**(-(a+b))*(nu/nu_p)**(-(p+4)/2))\n",
    "        print F_(t_p nu,F_p )\n",
    "    for nu in nu_p:\n",
    "    #calculate SSA\n",
    "  #calculate Mass loss rate, Radius\n",
    "               alpha = 1  #fraction of charged particles and magnetic field (epsilon_e/epsilon_b)\n",
    "f =  0.5   # filling factor (fraction of the emiting region)\n",
    "D =  808.4  # in Mpc distance to the SN\n",
    "\n",
    "R = 4.0e14*(alpha)**(-1/19)*(f/0.5)**(-1/19)*(F_p)**(9/19)*(D)**(18/19)*(nu_p/5)**(-1)\n",
    "\n",
    "# Magnetic field flux\n",
    "B = 1.1*(alpha)**(-4/19)*(f/0.5)**(-4/19)*(F_p)**(-2/19)*(D)**(-4/19)*(nu_p/5)\n",
    "\n",
    "#Internal energy of the emitting material\n",
    "epsilon_b = 0.1\n",
    "E = (1/epsilon_b)*((B**2)/(8* 3.142))*((4*3.142*f*R**3)/3)\n",
    "\n",
    "#expansion velocity in km/s\n",
    "v = (R/t)*1.1574e-10\n",
    "\n",
    "#pre-explosion mass-loss in 1e-5 solar mass per year\n",
    "v_w = 1000  #wind speed in km/s\n",
    "M = 1.0*(alpha)**(-8/19)*epsilon_b*(f)**(-8/19)*(F_p)**(-4/19)*(D)**(-4/19)*(nu_p/5)*(t_p/10)*(v_w/1000)\n",
    "\n",
    "        #calculate tau_ff\n",
    "       M_cgs =  #mass loss rate in cgs units\n",
    "Z_ave = 5.4  # Average metallicity 1= pure H. 5.4 for a massive star\n",
    "miu = 1.9 # mean molecular weight of electrons. 1= pure H  1.9 is for a massive star.\n",
    "#nu =  #frequency array that defines your SED. In GHz\n",
    "#R =   #radius in cm\n",
    "vw_cgs = 1000 * 10^5 # assumed wind velocity in cgs (cm/s). Take this as 1000 * 10^5 for now. (i.e. 1000 km/s in cgs)\n",
    "T = 10^4 # temperature of the material absorbing in K.  10^4 is a good starting point. \n",
    "                                         \n",
    "   tau_ff = 2.021e25*M_cgs**2*Z_ave/(miu**2*nu**(2.1)*R**3*vw_cgs**2*T**(1.35))  \n",
    "       F_ff = F*np.exp(-tau_ff)   \n",
    "                                      "
   ]
  }
 ],
 "metadata": {
  "kernelspec": {
   "display_name": "Python 3",
   "language": "python",
   "name": "python3"
  },
  "language_info": {
   "codemirror_mode": {
    "name": "ipython",
    "version": 3
   },
   "file_extension": ".py",
   "mimetype": "text/x-python",
   "name": "python",
   "nbconvert_exporter": "python",
   "pygments_lexer": "ipython3",
   "version": "3.6.9"
  }
 },
 "nbformat": 4,
 "nbformat_minor": 2
}
