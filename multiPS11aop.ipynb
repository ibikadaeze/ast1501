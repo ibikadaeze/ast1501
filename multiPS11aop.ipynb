{
 "cells": [
  {
   "cell_type": "code",
   "execution_count": 1,
   "metadata": {},
   "outputs": [],
   "source": [
    "import numpy as np\n",
    "import pandas as pd\n",
    "import math\n",
    "\n",
    "import matplotlib.pyplot as plt\n",
    "from astropy.io import ascii"
   ]
  },
  {
   "cell_type": "code",
   "execution_count": 2,
   "metadata": {},
   "outputs": [],
   "source": [
    "def F_nu(t_p,nu_p,F_nup,nu_sed):\n",
    "    '''Calculates a Synchrotron Self-Absorbed Spectrum for given input parameters.\n",
    "    \n",
    "    Parameters:\n",
    "    t_p (days): Time of SSA peak - should be single number\n",
    "    nu_p (GHz): Frequency of SSA peak - should be single number\n",
    "    F_nup (mJy): Flux of SSA peak - should be single number\n",
    "    nu (GHz): Frequencies at which you want the SSA spectrum to be calculated at. Likely an array.\n",
    "    \n",
    "    Outputs:\n",
    "    Fnu (mJy): the flux of the SSA. This is an array with values associated with each value of input array nu.\n",
    "    '''\n",
    "    \n",
    "    m = 0.88 #using stAandard model\n",
    "    p = 3.0 #using standard model\n",
    "    a = (2*m)+0.5\n",
    "    b = (p+5-(6*m))/2\n",
    "    t=t_p\n",
    "    Fnu = F_nup*1.582*(t/t_p)**a*(nu_sed/nu_p)**(5/2)*(1-np.exp(-(t/t_p)**(-(a+b))*(nu_sed/nu_p)**(-(p+4)/2)))\n",
    "    \n",
    "    return Fnu\n",
    "\n",
    "\n",
    "def SSA_props(t_p,nu_p,F_nup,D,f=0.5,alpha=1,vw=100,epsilon_b=0.1):\n",
    "    '''Calculates Synchroton Self-Absorption properties for given input parameters.\n",
    "    \n",
    "    Inputs:\n",
    "    t_p (days): Time of SSA peak - likely a single number\n",
    "    nu_p (GHz): Frequency of SSA peak - likely a single number\n",
    "    F_nup (mJy): Flux of SSA peak - likely a single number\n",
    "    D (Mpc): distance to SN - likely a single number\n",
    "    f (unitless): filling factor (fraction of emitting region). default is 0.5\n",
    "    alpha (unitless): ratio charged particles to magnetic field (epsilon_e/epsilon_b). default 1\n",
    "    v_w (km/s): wind speed. default = 100\n",
    "    epsilon_b (unitless): fraction of shock energy into B-fields. default = 0.1\n",
    "    \n",
    "    Outputs:\n",
    "    R (cm): radius of material \n",
    "    B : magnetic field flux\n",
    "    E : intermal energy of emitting material\n",
    "    v (km/s): expansion velocity of material\n",
    "    M (1d-5 solar masses per year): inferred mass loss rate of progenitor'''\n",
    "    \n",
    "\n",
    "    #Radius\n",
    "    R = 4.0e14*(alpha)**(-1/19)*(f/0.5)**(-1/19)*(F_nup)**(9/19)*(D)**(18/19)*(nu_p/5)**(-1)\n",
    "\n",
    "    # Magnetic field flux\n",
    "    B = 1.1*(alpha)**(-4/19)*(f/0.5)**(-4/19)*(F_nup)**(-2/19)*(D)**(-4/19)*(nu_p/5)\n",
    "\n",
    "    #Internal energy of the emitting material\n",
    "    E = (1/epsilon_b)*((B**2)/(8* 3.142))*((4*3.142*f*R**3)/3)\n",
    "\n",
    "    #expansion velocity in km/s\n",
    "    v = (R/t_p)*1.1574e-10\n",
    "\n",
    "    #pre-explosion mass-loss in 1e-5 solar mass per year\n",
    "    M = 1.0*(alpha)**(-8/19)*epsilon_b*(f)**(-8/19)*(F_nup)**(-4/19)*(D)**(-4/19)*(nu_p/5)*(t_p/10)*(vw/1000)\n",
    "    \n",
    "   \n",
    "\n",
    "    return R,B,E,v,M\n",
    "\n",
    "\n",
    "def taufreefree(M,R,nu):\n",
    "    '''Calculates the free free optical depth for a given set of parameters.\n",
    "    \n",
    "    Inputs:\n",
    "    M (1d-5 solar masses per year): mass loss rate\n",
    "    R (cm): radius of emitting material\n",
    "    nu (GHz): Frequencies at which you want tau-ff to be calculated at. Likely an array.\n",
    "    \n",
    "    Outputs:\n",
    "    tau_ff (unitless): the free-free optical depth, calculated at same frequences as input array nu'''\n",
    "\n",
    "    Z_ave = 5.4  # Average metallicity 1= pure H. 5.4 for a massive star\n",
    "    miu = 1.9 # mean molecular weight of electrons. 1= pure H  1.9 is for a massive star.\n",
    "    vw_cgs = 100 * 1e5 # assumed wind velocity in cgs (cm/s). Take this as 1000 * 10^5 for now. (i.e. 1000 km/s in cgs)\n",
    "    T = 10**4 # temperature of the material absorbing in K.  10^4 is a good starting point. \n",
    "        \n",
    "    M_cgs =  M * 1e-5 * 6.307e+25 #mass loss rate in cgs units\n",
    "    \n",
    "    tau_ff = 2.021e25*M_cgs**2*Z_ave/(miu**2*nu**(2.1)*R**3*vw_cgs**2*T**(1.35))  \n",
    "    \n",
    "    return tau_ff\n",
    "\n",
    "def den(M,R):\n",
    "    vw_cgs = 100 * 1e5\n",
    "    M_cgs =  M * 1e-5 * 6.307e+25 #mass loss rate in cgs units \n",
    "        #density of the CSM\n",
    "    density = M_cgs/(4*3.142*R**2*vw_cgs)\n",
    "    \n",
    "    return density\n",
    "#freqs,SED = F_nu(1224.288326 , 8,  0.0272)       \n",
    "#R2,B2,E2,v2,M2 = SSA_props(1224.288326 , 8,  0.0272,880) \n",
    "#tauff=taufreefree(M2,R2,freqs)\n",
    "#tauff=taufreefree(4,3e14,np.array([2,5,7]))\n",
    "#print(freqs)\n",
    "#print(tauff)\n",
    "#print(R2,B2,E2,v2,M2)"
   ]
  },
  {
   "cell_type": "code",
   "execution_count": 3,
   "metadata": {},
   "outputs": [],
   "source": [
    "### Define parameters that are specific to the supernova you want to model:###\n",
    "t_p = 1690.01477832512 # time of observation in days #1261.509031#\n",
    "D = 1088.1 # distance to SN in Mpc\n",
    "F_ul = [0.0246,0.211,0.0221] \n",
    "F_det = 0.0318\n",
    "F_det_err = 0.01\n",
    "nu_det = 6 #0.0404 #0.0404 # flux of upper limit in mJy\n",
    "nu_ul = [10,3,15] # frequency of upper limit in GHz\n",
    "file_out = 'multiPS11aop.csv' #File that you will save the results in.\n",
    "#plt.plot(6,0.0318, 'ro', markersize=10)\n",
    "#plt.plot(10,0.0246, 'mv', markersize=10)\n",
    "#plt.plot(3,0.211, 'kv', markersize=10)\n",
    "#plt.plot(15,0.0221, 'gv', markersize=10)\n",
    "\n",
    "\n",
    "### Define the grid of F_p and nu_p that you want to search over:###\n",
    "#F_p = [0.01,0.015,0.02,0.025,0.03] #mJy\n",
    "#nu = np.array([1,2,3,4,5,6,7,8,9,10,11,12,13,14,15]) # GHz\n",
    "\n",
    "F_p = np.logspace(np.log10(0.001),np.log10(1.0),num=25) #mJy (this is an array evenly spaced in log between 0.01 annd 1)\n",
    "nu_p = np.logspace(np.log10(0.05),np.log10(50),num=25) #GHz (this is an array evenly spaced in log between 0.5 annd 50)\n",
    "\n",
    "\n",
    "### Define array of frequencies to calculate the SSA and SSA+FFA spectrum at ###\n",
    "nu_sed = np.array([1,2,3,4,5,6,7,8,9,10,11,12,13,14,15])\n",
    "\n",
    "### Define empty arrays of the values that you want to save for each value in the grid you are searching over: ###\n",
    "Fp_g = [] #peak flux\n",
    "nup_g =[] #peak frequency\n",
    "R_g =[] #radius\n",
    "B_g = [] #Bfield\n",
    "vsh_g = [] #velocity of shock\n",
    "M_g = [] #mass loss rate\n",
    "den_g = []\n",
    "RuledOut_g = [] #flag for whether it is ruled out\n",
    "\n",
    "######### SEARCH OVER GRID ############\n",
    "\n",
    "for F in F_p:\n",
    "    for nu in nu_p:\n",
    "        #calculate SSA\n",
    "        SSA_sed = F_nu(t_p,nu,F,nu_sed)\n",
    "        \n",
    "        #calculate Mass loss rate, Radius, velocity, etc.\n",
    "        R,B,E,v,M = SSA_props(t_p,nu,F,D)\n",
    "        \n",
    "        #calculate the density of the CSM\n",
    "        density = den(M,R)\n",
    "       \n",
    "        #calculate tau_ff\n",
    "        tauff = taufreefree(M,R,nu_sed)\n",
    "        \n",
    "        #Correct SED for FFA:\n",
    "        SSA_FFA_sed = SSA_sed*np.exp(-tauff)\n",
    "        \n",
    "        \n",
    "        #Evaluate if this SED is allowed:\n",
    "        RuledOut = False #Assume a default posisition that this combination is allowed.\n",
    "        \n",
    "        #First loop over the upper limits and see if any of them rule it out.\n",
    "        for i in range(len(F_ul)):\n",
    "            freq = nu_ul[i]\n",
    "            flux = F_ul[i]\n",
    "            #Interpolate this SSA+FFA to the frequency of your data point:\n",
    "            flux_test1 = np.interp(nu_ul, nu_sed, SSA_FFA_sed)\n",
    "            if np.any(flux_test1 > flux):\n",
    "                RuledOut = True\n",
    "                break\n",
    "\n",
    "        #Now test against the detection as well:\n",
    "        flux_test2 = np.interp(nu_det, nu_sed, SSA_FFA_sed)\n",
    "        #NB: in this case 0.0318, but we should be writing this code as generally as possible.\n",
    "        F_upper = F_det + F_det_err\n",
    "        F_lower = F_det - F_det_err\n",
    "\n",
    "        if (flux_test2 > F_upper):\n",
    "            RuledOut = True\n",
    "        if (flux_test2 < F_lower):\n",
    "            RuledOut = True\n",
    "\n",
    "        \n",
    "        # Append the values from this loop into the arrays that we defined above:\n",
    "        Fp_g.append(F) \n",
    "        nup_g.append(nu) \n",
    "        R_g.append(R) \n",
    "        B_g.append(B) \n",
    "        vsh_g.append(v) \n",
    "        M_g.append(M)\n",
    "        den_g.append(density)\n",
    "        RuledOut_g.append(RuledOut) \n",
    " \n",
    "        #It will now go on to the next set in the loop:\n",
    "    \n",
    "# Now it has gone over the whole loop. So write out the results into a data file that you can use later:\n",
    "data = [Fp_g,nup_g,R_g,B_g,vsh_g,M_g,den_g,RuledOut_g]\n",
    "names = ['F_peak','nu_peak','Radius','Bfield','v_shock','Mdot','den','RuledOut']\n",
    "ascii.write(data,file_out,names=names,overwrite=True,format='csv')"
   ]
  },
  {
   "cell_type": "code",
   "execution_count": 4,
   "metadata": {},
   "outputs": [
    {
     "data": {
      "image/png": "[encoded data removed]",
      "text/plain": [
       "<Figure size 432x288 with 1 Axes>"
      ]
     },
     "metadata": {
      "needs_background": "light"
     },
     "output_type": "display_data"
    }
   ],
   "source": [
    "file_in = 'multiPS11aop.csv'\n",
    "data_plot = ascii.read(file_in)\n",
    "\n",
    "gammabeta = data_plot['v_shock']*(1/3e5)\n",
    "\n",
    "\n",
    "\n",
    "plt.figure()\n",
    "\n",
    "for i in range(len(data_plot)):\n",
    "    if data_plot['RuledOut'][i] == 'True':\n",
    "        plt.plot(data_plot['Mdot'][i],gammabeta[i],'ro',alpha=0.5)\n",
    "    else:\n",
    "        plt.plot(data_plot['Mdot'][i],gammabeta[i],'ko', label ='PS11aop8')#,alpha=0.2)\n",
    "\n",
    "plt.yscale('log')\n",
    "plt.xscale('log')\n",
    "plt.xlabel(r'Mass Loss Rate ($10^{-5}$ Msun/year)')\n",
    "plt.ylabel('Gamma*Beta')\n",
    "plt.title('Parameter space for mass-loss rates allowed for PS11aop')\n",
    "#plt.show()\n",
    "#plt.xlim(0.8,2)\n",
    "#plt.ylim(0.045,0.0045)\n",
    "plt.savefig('mp.pdf')"
   ]
  },
  {
   "cell_type": "code",
   "execution_count": 5,
   "metadata": {},
   "outputs": [
    {
     "data": {
      "image/png": "[encoded data removed]",
      "text/plain": [
       "<Figure size 432x288 with 1 Axes>"
      ]
     },
     "metadata": {
      "needs_background": "light"
     },
     "output_type": "display_data"
    }
   ],
   "source": [
    "file_in = 'multiPS11aop.csv'\n",
    "data_plot = ascii.read(file_in)\n",
    "R = data_plot['Radius']\n",
    "#gammabeta = data_plot['v_shock']*(1/3e5)\n",
    "\n",
    "\n",
    "\n",
    "plt.figure()\n",
    "\n",
    "for i in range(len(data_plot)):\n",
    "    if data_plot['RuledOut'][i] == 'True':\n",
    "        plt.plot(R[i],data_plot['den'][i],'ro',alpha=0.2)\n",
    "    else:\n",
    "        plt.plot(R[i],data_plot['den'][i],'ko')# label ='PS11aop8')#,alpha=0.2)\n",
    "\n",
    "plt.yscale('log')\n",
    "plt.xscale('log')\n",
    "plt.xlabel(r'R (cm)')\n",
    "plt.ylabel(r'$\\rho$ ($gcm^{-3}$)')\n",
    "plt.title('Parameter space for the density profile allowed for PS11aop')\n",
    "#plt.show()\n",
    "plt.savefig('multiPS11aopdr.pdf')"
   ]
  },
  {
   "cell_type": "code",
   "execution_count": 5,
   "metadata": {},
   "outputs": [
    {
     "data": {
      "text/plain": [
       "Text(0.5, 1, 'SEDs for multiPS11aop')"
      ]
     },
     "execution_count": 5,
     "metadata": {},
     "output_type": "execute_result"
    },
    {
     "data": {
      "image/png": "[encoded data removed]",
      "text/plain": [
       "<Figure size 576x360 with 1 Axes>"
      ]
     },
     "metadata": {
      "needs_background": "light"
     },
     "output_type": "display_data"
    }
   ],
   "source": [
    "data = pd.read_csv('/home/ibik/multiPS11aop.csv')\n",
    "F_nup1 = data['F_peak'][291] #.take([0, 3, 14])#data['F_peak'][3,5,6])\n",
    "nu_p1 = data['nu_peak'][291]#.take([0, 3, 14])#[3,5,6])\n",
    "R1 = data['Radius'][291]#.take([0, 3, 14]) #[3,5,6])\n",
    "M1 = data['Mdot'][291]#.take([0, 3, 14])\n",
    "\n",
    "t=t_p = 1690.01477832512 #1261.509031 # time of observation in days\n",
    "D = 1088.1 # distance to SN in Mpc\n",
    "m = 0.88 #using stAandard model\n",
    "p = 3.0 #using standard model\n",
    "a = (2*m)+0.5\n",
    "b = (p+5-(6*m))/2\n",
    "nu =np.arange(1, 100, dtype=float)\n",
    "        #calculate SSA\n",
    "SSA_sed1 = F_nup1*1.582*(t/t_p)**a*(nu/nu_p1)**(5/2)*(1-np.exp(-(t/t_p)**(-(a+b))*(nu/nu_p1)**(-(p+4)/2)))           \n",
    "#Correct SED for FFA:\n",
    "Z_ave = 5.4  # Average metallicity 1= pure H. 5.4 for a massive star\n",
    "miu = 1.9 # mean molecular weight of electrons. 1= pure H  1.9 is for a massive star.\n",
    "vw_cgs = 100 * 1e5 # assumed wind velocity in cgs (cm/s). Take this as 1000 * 10^5 for now. (i.e. 1000 km/s in cgs)\n",
    "T = 10**4 # temperature of the material absorbing in K.  10^4 is a good starting point. \n",
    "\n",
    " \n",
    "M_cgs1 =  M1 * 1e-5 * 6.307e+25 #mass loss rate in cgs units\n",
    "tau_ff1 = 2.021e25*M_cgs1**2*Z_ave/(miu**2*nu**(2.1)*R1**3*vw_cgs**2*T**(1.35))   \n",
    "SSA_FFA_sed1 = SSA_sed1*np.exp(-tau_ff1)\n",
    "\n",
    "yerr = 0.0095\n",
    "\n",
    "plt.rcParams.update({'font.size': 10})\n",
    "plt.figure(figsize=(8,5))\n",
    "plt.autoscale()\n",
    "#ax=plt.subplot(111)\n",
    "\n",
    "plt.xscale('log')\n",
    "plt.yscale('log')\n",
    "plt.plot(nu,SSA_FFA_sed1,'b')# nu,SSA_FFA_sed2,'r',nu,SSA_FFA_sed3,'r',nu,SSA_FFA_sed4,'r',nu,SSA_FFA_sed5,'b',nu,SSA_FFA_sed6,'b',nu,SSA_FFA_sed7,'b',nu,SSA_FFA_sed8,'b',nu,SSA_FFA_sed9,'b',nu,SSA_FFA_sed10,'b',label ='PS11aopx')\n",
    "\n",
    "plt.errorbar(6,0.0318,yerr,fmt ='o')#'ro', markersize=10)\n",
    "plt.plot(10,0.0246, 'mv', markersize=10)\n",
    "plt.plot(3,0.211, 'kv', markersize=10)\n",
    "plt.plot(15,0.0221, 'gv', markersize=10)\n",
    "\n",
    "plt.xlabel(r'$\\nu$ (GHz)', fontsize=20) #Log$_{10}$ t$_{rest}$(days)($\\u03BD$ /5 GHz)', fontsize=14)\n",
    "plt.ylabel('Flux (mJy)', fontsize=20) \n",
    "plt.savefig('multiPS11aop.pdf')\n",
    "plt.title('SEDs for multiPS11aop')   \n",
    "\n"
   ]
  },
  {
   "cell_type": "code",
   "execution_count": 26,
   "metadata": {},
   "outputs": [
    {
     "data": {
      "image/png": "[encoded data removed]",
      "text/plain": [
       "<Figure size 432x288 with 1 Axes>"
      ]
     },
     "metadata": {
      "needs_background": "light"
     },
     "output_type": "display_data"
    }
   ],
   "source": [
    "data = pd.read_csv('/home/ibik/ps11aop2epoch.csv')\n",
    "\n",
    "R1 = data['Radius']#.take([0, 3, 14]) #[3,5,6])\n",
    "a =data['A']\n",
    "d =  1e13*R1**(-2)\n",
    "plt.figure(1)\n",
    "plt.plot(R1[0:8],d[0:8],'ko',label = '1st epoch')\n",
    "plt.plot(R1[9],d[9],'k*',label = '2nd epoch')\n",
    "\n",
    "#plt.plot(np.log10(data['Radius'][0:8]),np.log10(data['den'][0:8]),'bo',np.log10(data['Radius'][9]),np.log10(data['densityw'][9]),'ko')\n",
    "\n",
    "\n",
    "plt.xlabel('Radius (cm)')\n",
    "plt.ylabel(r'$\\rho$ (g$cm^{-3}$)')\n",
    "plt.legend()\n",
    "#plt.show()\n",
    "plt.savefig('dp.pdf')\n"
   ]
  },
  {
   "cell_type": "code",
   "execution_count": 10,
   "metadata": {},
   "outputs": [
    {
     "name": "stdout",
     "output_type": "stream",
     "text": [
      "0    4.216472e-21\n",
      "1    2.371096e-21\n",
      "2    4.808025e-21\n",
      "3    5.482571e-21\n",
      "4    6.251753e-21\n",
      "5    5.708581e-21\n",
      "6    6.509471e-21\n",
      "7    5.943907e-21\n",
      "Name: densityw, dtype: float64\n"
     ]
    }
   ],
   "source": [
    "print(data['densityw'][0:8])"
   ]
  },
  {
   "cell_type": "code",
   "execution_count": null,
   "metadata": {},
   "outputs": [],
   "source": []
  }
 ],
 "metadata": {
  "kernelspec": {
   "display_name": "Python 3",
   "language": "python",
   "name": "python3"
  },
  "language_info": {
   "codemirror_mode": {
    "name": "ipython",
    "version": 3
   },
   "file_extension": ".py",
   "mimetype": "text/x-python",
   "name": "python",
   "nbconvert_exporter": "python",
   "pygments_lexer": "ipython3",
   "version": "3.7.7"
  }
 },
 "nbformat": 4,
 "nbformat_minor": 2
}
