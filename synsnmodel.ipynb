{
 "cells": [
  {
   "cell_type": "code",
   "execution_count": 3,
   "metadata": {},
   "outputs": [],
   "source": [
    "import numpy as np\n",
    "import pandas as pd\n",
    "import math\n",
    "\n",
    "import matplotlib.pyplot as plt\n"
   ]
  },
  {
   "cell_type": "code",
   "execution_count": 5,
   "metadata": {},
   "outputs": [
    {
     "name": "stdout",
     "output_type": "stream",
     "text": [
      "nu = [1, 2, 3, 4, 5, 6, 7, 8, 9, 10, 11, 12, 13, 14, 15, 16, 17, 18, 19, 20, 21, 22, 23, 24, 25, 26, 27, 28, 29, 30, 31, 32, 33, 34, 35, 36, 37, 38, 39, 40, 41, 42, 43, 44, 45, 46, 47, 48, 49, 50, 51, 52, 53, 54, 55, 56, 57, 58, 59, 60, 61, 62, 63, 64, 65, 66, 67, 68, 69, 70, 71, 72, 73, 74, 75, 76, 77, 78, 79, 80, 81, 82, 83, 84, 85, 86, 87, 88, 89, 90, 91, 92, 93, 94, 95, 96, 97, 98, 99]\n"
     ]
    }
   ],
   "source": [
    "#nu = np.arange(1, 100, dtype=float)\n",
    "#print (nu)\n",
    "nu = []\n",
    "for i in range(1, 100):\n",
    "    nu.append(i)\n",
    "print(\"nu = %s\" % nu)"
   ]
  },
  {
   "cell_type": "code",
   "execution_count": 16,
   "metadata": {},
   "outputs": [
    {
     "name": "stdout",
     "output_type": "stream",
     "text": [
      "[0.00013607 0.00076975 0.00212118 0.00435437 0.00760668 0.01196879\n",
      " 0.01709993 0.02185777 0.02527817 0.0272004  0.0279303  0.02785593\n",
      " 0.02729137 0.02645338 0.02548058 0.02445782 0.0234352  0.0224412\n",
      " 0.021491   0.02059176 0.01974587 0.01895292 0.01821095 0.01751718\n",
      " 0.01686846 0.01626157 0.01569332 0.0151607  0.01466086 0.0141912\n",
      " 0.01374929 0.01333295 0.01294015 0.01256908 0.01221808 0.01188563\n",
      " 0.01157036 0.01127102 0.01098648 0.01071569 0.01045771 0.01021167\n",
      " 0.00997678 0.00975232 0.00953762 0.00933207 0.0091351  0.00894619\n",
      " 0.00876488 0.0085907  0.00842327 0.00826219 0.00810711 0.00795771\n",
      " 0.00781369 0.00767476 0.00754066 0.00741115 0.00728598 0.00716496\n",
      " 0.00704788 0.00693454 0.00682478 0.00671843 0.00661534 0.00651535\n",
      " 0.00641832 0.00632414 0.00623268 0.00614381 0.00605744 0.00597346\n",
      " 0.00589177 0.00581228 0.0057349  0.00565956 0.00558616 0.00551464\n",
      " 0.00544492 0.00537694 0.00531064 0.00524595 0.00518281 0.00512118\n",
      " 0.00506099 0.00500219 0.00494475 0.00488861 0.00483373 0.00478006\n",
      " 0.00472758 0.00467623 0.00462598 0.0045768  0.00452866 0.00448152\n",
      " 0.00443534 0.00439011 0.00434579]\n"
     ]
    },
    {
     "data": {
      "image/png": "[encoded data removed]",
      "text/plain": [
       "<Figure size 432x288 with 1 Axes>"
      ]
     },
     "metadata": {},
     "output_type": "display_data"
    },
    {
     "data": {
      "text/plain": [
       "<Figure size 432x288 with 0 Axes>"
      ]
     },
     "metadata": {},
     "output_type": "display_data"
    }
   ],
   "source": [
    "#Synchrotron model of the fluxes\n",
    "import numpy as np\n",
    "plt.rc('text', usetex=True)\n",
    "\n",
    "t =1224.288326 \n",
    "t_p = 1224.288326 #days\n",
    "nu =np.arange(1, 100, dtype=float)\n",
    "nu_p = 10 #GHz\n",
    "F_nup = 0.0272 #mjansky\n",
    "m = 0.88 #using stAandard model\n",
    "p = 3.0 #using standard model\n",
    "a = (2*m)+0.5\n",
    "b = (p+5-(6*m))/2\n",
    "\n",
    "F_nu = F_nup*1.582*(t/t_p)**a*(nu/nu_p)**(5/2)*(1-np.exp(-(t/t_p)**(-(a+b))*(nu/nu_p)**(-(p+4)/2)))\n",
    "\n",
    "print(F_nu)                                              \n",
    "\n",
    "ax=plt.subplot(111)\n",
    "plt.plot(nu,F_nu, label ='PS11ad')\n",
    "plt.xlabel(r'$\\nu$ (GHz)', fontsize=14) #Log$_{10}$ t$_{rest}$(days)($\\u03BD$ /5 GHz)', fontsize=14)\n",
    "plt.ylabel('Flux (mJy)', fontsize=14) #Log$_{10}$ Luminosity (erg $s^{-1}$ $Hz^{-1}$)', fontsize =14)\n",
    "plt.legend(frameon=True, framealpha=0.1, loc='center left', bbox_to_anchor=(1, 0.5))\n",
    "#ax.legend(loc='center left', bbox_to_anchor=(1, 0.5))\n",
    "plt.show()\n",
    "plt.savefig('syn1.pdf')"
   ]
  },
  {
   "cell_type": "code",
   "execution_count": 18,
   "metadata": {},
   "outputs": [
    {
     "name": "stdout",
     "output_type": "stream",
     "text": [
      "1.0318719668997808e+16\n"
     ]
    }
   ],
   "source": [
    "#Radius at time t_p\n",
    "alpha = 1  #fraction of charged particles and magnetic field (epsilon_e/epsilon_b)\n",
    "f =  0.5   # filling factor (fraction of the emiting region)\n",
    "D =  2129.4   # in Mpc distance to the SN\n",
    "\n",
    "R = 4.0e14*(alpha)**(-1/19)*(f/0.5)**(-1/19)*(F_nup)**(9/19)*(D)**(18/19)*(nu_p)**(-1)\n",
    "print (R)\n"
   ]
  },
  {
   "cell_type": "code",
   "execution_count": 19,
   "metadata": {},
   "outputs": [
    {
     "name": "stdout",
     "output_type": "stream",
     "text": [
      "3.202500225526985\n"
     ]
    }
   ],
   "source": [
    "# Magnetic field flux\n",
    "B = 1.1*(alpha)**(-4/19)*(f/0.5)**(-4/19)*(F_nup)**(-2/19)*(D)**(-4/19)*(nu_p)\n",
    "print (B)"
   ]
  },
  {
   "cell_type": "code",
   "execution_count": 20,
   "metadata": {},
   "outputs": [
    {
     "name": "stdout",
     "output_type": "stream",
     "text": [
      "9.390193335062946e+48\n"
     ]
    }
   ],
   "source": [
    "#Internal energy of the emitting material\n",
    "epsilon_b = 0.1\n",
    "E = (1/epsilon_b)*((B**2)/(8* 3.142))*((4*3.142*f*R**3)/3)\n",
    "print(E)"
   ]
  },
  {
   "cell_type": "code",
   "execution_count": 21,
   "metadata": {},
   "outputs": [
    {
     "name": "stdout",
     "output_type": "stream",
     "text": [
      "8428341143063.2295\n"
     ]
    }
   ],
   "source": [
    "#expansion velocity\n",
    "v = R/t\n",
    "print(v)"
   ]
  },
  {
   "cell_type": "code",
   "execution_count": 22,
   "metadata": {},
   "outputs": [
    {
     "name": "stdout",
     "output_type": "stream",
     "text": [
      "1000\n"
     ]
    }
   ],
   "source": [
    "#pre-explosion mass-loss in 1e-5 solar mass per year\n",
    "v_w = 1000  #wind speed in km/s\n",
    "M = 1.0*(alpha)**(-8/19)*epsilon_b*(f)**(-8/19)*(F_nup)**(-4/19)*(D)**(-4/19)*(nu_p)*(t_p/10)*(v_w/1000)\n",
    "print(v_w)\n"
   ]
  },
  {
   "cell_type": "code",
   "execution_count": null,
   "metadata": {},
   "outputs": [],
   "source": []
  }
 ],
 "metadata": {
  "kernelspec": {
   "display_name": "Python 3",
   "language": "python",
   "name": "python3"
  },
  "language_info": {
   "codemirror_mode": {
    "name": "ipython",
    "version": 3
   },
   "file_extension": ".py",
   "mimetype": "text/x-python",
   "name": "python",
   "nbconvert_exporter": "python",
   "pygments_lexer": "ipython3",
   "version": "3.6.9"
  }
 },
 "nbformat": 4,
 "nbformat_minor": 2
}
